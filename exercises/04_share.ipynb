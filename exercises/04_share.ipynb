{
 "cells": [
  {
   "cell_type": "markdown",
   "id": "d3765238",
   "metadata": {},
   "source": [
    "# Exercises: Share Your Insights"
   ]
  },
  {
   "cell_type": "code",
   "execution_count": null,
   "id": "181c2b46",
   "metadata": {},
   "outputs": [],
   "source": [
    "import pandas as pd\n",
    "\n",
    "postal_codes = pd.read_csv(\"../data/postal_codes.csv\")\n",
    "waste_collection = pd.read_json(\"../data/waste_collection.json\")"
   ]
  },
  {
   "cell_type": "markdown",
   "id": "7dabfa25",
   "metadata": {},
   "source": [
    "## 1. Create a Waste Collection Calendar\n",
    "\n",
    "Pivot the `waste_collection` data for the **basel** region to show which **type** of waste is collected for each **date** and **area**."
   ]
  },
  {
   "cell_type": "code",
   "execution_count": null,
   "id": "4eda84b2",
   "metadata": {},
   "outputs": [],
   "source": []
  },
  {
   "cell_type": "markdown",
   "id": "38ad6f73",
   "metadata": {},
   "source": [
    "## 2. Plot the most commonly collected waste\n",
    "\n",
    "Group the waste collection information by **type** and plot a horisontal bar diagram."
   ]
  },
  {
   "cell_type": "code",
   "execution_count": null,
   "id": "cf735523",
   "metadata": {},
   "outputs": [],
   "source": []
  },
  {
   "cell_type": "markdown",
   "id": "402e8f11",
   "metadata": {},
   "source": [
    "## 3. Create a Table with an overview of waste collection\n",
    "\n",
    "Create a table showing the number of waste collections in each **region** for each waste **type**. Export the table to LaTeX."
   ]
  },
  {
   "cell_type": "code",
   "execution_count": null,
   "id": "4807552d",
   "metadata": {},
   "outputs": [],
   "source": []
  }
 ],
 "metadata": {
  "jupytext": {
   "formats": "ipynb,py:percent"
  },
  "kernelspec": {
   "display_name": "Python 3 (ipykernel)",
   "language": "python",
   "name": "python3"
  }
 },
 "nbformat": 4,
 "nbformat_minor": 5
}
