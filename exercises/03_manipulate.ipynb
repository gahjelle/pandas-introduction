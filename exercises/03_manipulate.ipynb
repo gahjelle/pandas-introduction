{
 "cells": [
  {
   "cell_type": "markdown",
   "id": "f088fb6c",
   "metadata": {},
   "source": [
    "# Exercises: Manipulate DataFrames"
   ]
  },
  {
   "cell_type": "code",
   "execution_count": null,
   "id": "44ca45e3",
   "metadata": {},
   "outputs": [],
   "source": [
    "import pandas as pd\n",
    "\n",
    "postal_codes = pd.read_csv(\"../data/postal_codes.csv\")\n",
    "waste_collection = pd.read_json(\"../data/waste_collection.json\")"
   ]
  },
  {
   "cell_type": "markdown",
   "id": "d04964cf",
   "metadata": {},
   "source": [
    "## 1. Filter\n",
    "\n",
    "A. Show date, type, and region in the `waste_collection` dataset:"
   ]
  },
  {
   "cell_type": "code",
   "execution_count": null,
   "id": "98c73997",
   "metadata": {},
   "outputs": [],
   "source": []
  },
  {
   "cell_type": "markdown",
   "id": "8c5ebca7",
   "metadata": {},
   "source": [
    "B. Find postal codes inside the **Basel** municipality."
   ]
  },
  {
   "cell_type": "code",
   "execution_count": null,
   "id": "cef61b26",
   "metadata": {},
   "outputs": [],
   "source": []
  },
  {
   "cell_type": "markdown",
   "id": "7b7fdbe0",
   "metadata": {},
   "source": [
    "C. Find information about postal codes in all cantons with **Basel** in their name."
   ]
  },
  {
   "cell_type": "code",
   "execution_count": null,
   "id": "fd27cd9f",
   "metadata": {},
   "outputs": [],
   "source": []
  },
  {
   "cell_type": "markdown",
   "id": "334400ae",
   "metadata": {},
   "source": [
    "D. Find information about waste collection in the **basel** region."
   ]
  },
  {
   "cell_type": "code",
   "execution_count": null,
   "id": "a31222f2",
   "metadata": {},
   "outputs": [],
   "source": []
  },
  {
   "cell_type": "markdown",
   "id": "c32cdb75",
   "metadata": {},
   "source": [
    "## 2. Aggregate\n",
    "\n",
    "A. Find the average latitude and longitude of all postal code data."
   ]
  },
  {
   "cell_type": "code",
   "execution_count": null,
   "id": "b49b91c2",
   "metadata": {},
   "outputs": [],
   "source": []
  },
  {
   "cell_type": "markdown",
   "id": "5f230602",
   "metadata": {},
   "source": [
    "B. Find the average latitude and longitude of all postal codes in the **Basel** municipality."
   ]
  },
  {
   "cell_type": "code",
   "execution_count": null,
   "id": "d3cc9d87",
   "metadata": {},
   "outputs": [],
   "source": []
  },
  {
   "cell_type": "markdown",
   "id": "871cdee3",
   "metadata": {},
   "source": [
    "C. Find the average latitude and longitude of all cantons."
   ]
  },
  {
   "cell_type": "code",
   "execution_count": null,
   "id": "18cf567a",
   "metadata": {},
   "outputs": [],
   "source": []
  },
  {
   "cell_type": "markdown",
   "id": "667731e4",
   "metadata": {},
   "source": [
    "D. Merge `postal_codes` and `waste_collection` on the postal code."
   ]
  },
  {
   "cell_type": "code",
   "execution_count": null,
   "id": "c646733c",
   "metadata": {},
   "outputs": [],
   "source": []
  },
  {
   "cell_type": "markdown",
   "id": "1546cbe7",
   "metadata": {},
   "source": [
    "## 3. Transform\n",
    "\n",
    "A. Remove the word `Kanton` from the canton column in `postal_codes`."
   ]
  },
  {
   "cell_type": "code",
   "execution_count": null,
   "id": "9ca8ddf5",
   "metadata": {},
   "outputs": [],
   "source": []
  },
  {
   "cell_type": "markdown",
   "id": "bf4e4007",
   "metadata": {},
   "source": [
    "B. Add the canton code to the name in parentheses in `postal_codes`. For example, Aarau in Kanton Aargau becomes `Aarau (AG)`."
   ]
  },
  {
   "cell_type": "code",
   "execution_count": null,
   "id": "708fe828",
   "metadata": {},
   "outputs": [],
   "source": []
  },
  {
   "cell_type": "markdown",
   "id": "ad91dcc2",
   "metadata": {},
   "source": [
    "## 4. Sort\n",
    "\n",
    "A. Sort postal codes alphabetically by name."
   ]
  },
  {
   "cell_type": "code",
   "execution_count": null,
   "id": "f7f2d5e2",
   "metadata": {},
   "outputs": [],
   "source": []
  },
  {
   "cell_type": "markdown",
   "id": "f34481f6",
   "metadata": {},
   "source": [
    "B. Sort postal codes by latitude from North to South."
   ]
  },
  {
   "cell_type": "code",
   "execution_count": null,
   "id": "a9cad6cd",
   "metadata": {},
   "outputs": [],
   "source": []
  },
  {
   "cell_type": "markdown",
   "id": "0f6f25ae",
   "metadata": {},
   "source": [
    "C. Sort postal codes, first descending by district code, then ascending by municipality name."
   ]
  },
  {
   "cell_type": "code",
   "execution_count": null,
   "id": "112e7ae6",
   "metadata": {},
   "outputs": [],
   "source": []
  }
 ],
 "metadata": {
  "jupytext": {
   "formats": "ipynb,py:percent"
  },
  "kernelspec": {
   "display_name": "Python 3 (ipykernel)",
   "language": "python",
   "name": "python3"
  }
 },
 "nbformat": 4,
 "nbformat_minor": 5
}
