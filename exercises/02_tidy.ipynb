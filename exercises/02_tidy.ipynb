{
 "cells": [
  {
   "cell_type": "markdown",
   "id": "c1124487",
   "metadata": {},
   "source": [
    "# Exercises: Work With Tidy Data"
   ]
  },
  {
   "cell_type": "code",
   "execution_count": null,
   "id": "551979eb",
   "metadata": {},
   "outputs": [],
   "source": [
    "import pandas as pd"
   ]
  },
  {
   "cell_type": "markdown",
   "id": "6f65ebd9",
   "metadata": {},
   "source": [
    "## 1. Tidy the Grades dataset\n",
    "\n",
    "Convert the following `grades` dataset to a tidy form"
   ]
  },
  {
   "cell_type": "code",
   "execution_count": null,
   "id": "44d90975",
   "metadata": {},
   "outputs": [],
   "source": [
    "grades = pd.DataFrame(\n",
    "    [\n",
    "        {\"quiz_1\": \"B\", \"quiz_2\": \"A\", \"final\": \"A\"},\n",
    "        {\"quiz_2\": \"C\", \"final\": \"C\"},\n",
    "        {\"quiz_1\": \"C\", \"quiz_2\": \"D\", \"final\": \"D\"},\n",
    "    ],\n",
    "    index=[\"Guido\", \"Wes\", \"Geir Arne\"],\n",
    ")"
   ]
  },
  {
   "cell_type": "code",
   "execution_count": null,
   "id": "89dcba5a",
   "metadata": {},
   "outputs": [],
   "source": []
  },
  {
   "cell_type": "markdown",
   "id": "8a03847b",
   "metadata": {},
   "source": [
    "## 2. Tidy the Weather dataset\n",
    "\n",
    "Read Hadley Wickham's `weather` dataset and convert it to a tidy form."
   ]
  },
  {
   "cell_type": "code",
   "execution_count": null,
   "id": "d1b81bfb",
   "metadata": {},
   "outputs": [],
   "source": [
    "weather = pd.read_fwf(\n",
    "    \"https://raw.githubusercontent.com/hadley/tidy-data/master/data/weather.txt\",\n",
    "    colspecs=[\n",
    "        (0, 21),\n",
    "        (21, 26),\n",
    "        (29, 34),\n",
    "        (37, 42),\n",
    "        (45, 50),\n",
    "        (53, 58),\n",
    "        (61, 66),\n",
    "        (69, 74),\n",
    "        (77, 82),\n",
    "        (85, 90),\n",
    "        (93, 98),\n",
    "        (101, 106),\n",
    "        (109, 114),\n",
    "        (117, 122),\n",
    "        (125, 130),\n",
    "        (133, 138),\n",
    "        (141, 146),\n",
    "        (149, 154),\n",
    "        (157, 162),\n",
    "        (165, 170),\n",
    "        (173, 178),\n",
    "        (181, 186),\n",
    "        (189, 194),\n",
    "        (197, 202),\n",
    "        (205, 210),\n",
    "        (213, 218),\n",
    "        (221, 226),\n",
    "        (229, 234),\n",
    "        (237, 242),\n",
    "        (245, 250),\n",
    "        (253, 258),\n",
    "        (261, 266),\n",
    "    ],\n",
    "    header=None,\n",
    ").rename(columns={0: \"info\"})"
   ]
  },
  {
   "cell_type": "code",
   "execution_count": null,
   "id": "5db0f552",
   "metadata": {},
   "outputs": [],
   "source": []
  }
 ],
 "metadata": {
  "jupytext": {
   "formats": "ipynb,py:percent"
  },
  "kernelspec": {
   "display_name": "Python 3 (ipykernel)",
   "language": "python",
   "name": "python3"
  }
 },
 "nbformat": 4,
 "nbformat_minor": 5
}
