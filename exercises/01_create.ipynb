{
 "cells": [
  {
   "cell_type": "markdown",
   "id": "1cfee4fa",
   "metadata": {},
   "source": [
    "# Exercises: Create DataFrames"
   ]
  },
  {
   "cell_type": "code",
   "execution_count": null,
   "id": "9a7266fd",
   "metadata": {},
   "outputs": [],
   "source": [
    "import pandas as pd"
   ]
  },
  {
   "cell_type": "markdown",
   "id": "e7adcd0b",
   "metadata": {},
   "source": [
    "## 1. Create a DataFrame from Python structures\n",
    "\n",
    "Create a DataFrame with the following data:\n",
    "\n",
    "|           | quiz_1   | quiz_2   | final   |\n",
    "|:----------|:---------|:---------|:--------|\n",
    "| Guido     | B        | A        | A       |\n",
    "| Wes       | -        | C        | C       |\n",
    "| Geir Arne | C        | D        | D       |"
   ]
  },
  {
   "cell_type": "code",
   "execution_count": null,
   "id": "91f03c81",
   "metadata": {},
   "outputs": [],
   "source": []
  },
  {
   "cell_type": "markdown",
   "id": "0b55c9e3",
   "metadata": {},
   "source": [
    "## 2. Read a DataFrame from files\n",
    "\n",
    "Read the file `../data/waste_collection.json` as a Python DataFrame."
   ]
  },
  {
   "cell_type": "code",
   "execution_count": null,
   "id": "4a26c764",
   "metadata": {},
   "outputs": [],
   "source": []
  }
 ],
 "metadata": {
  "jupytext": {
   "formats": "ipynb,py:percent"
  },
  "kernelspec": {
   "display_name": "Python 3 (ipykernel)",
   "language": "python",
   "name": "python3"
  }
 },
 "nbformat": 4,
 "nbformat_minor": 5
}
