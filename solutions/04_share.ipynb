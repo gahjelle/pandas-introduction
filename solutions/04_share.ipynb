{
 "cells": [
  {
   "cell_type": "markdown",
   "id": "8094c7e4",
   "metadata": {},
   "source": [
    "# Exercises: Share Your Insights"
   ]
  },
  {
   "cell_type": "code",
   "execution_count": null,
   "id": "952c7d8e",
   "metadata": {},
   "outputs": [],
   "source": [
    "import pandas as pd\n",
    "\n",
    "postal_codes = pd.read_csv(\"../data/postal_codes.csv\")\n",
    "waste_collection = pd.read_json(\"../data/waste_collection.json\")"
   ]
  },
  {
   "cell_type": "markdown",
   "id": "5c916ce0",
   "metadata": {},
   "source": [
    "## 1. Create a Waste Collection Calendar\n",
    "\n",
    "Pivot the `waste_collection` data for the **basel** region to show which **type** of waste is collected for each **date** and **area**."
   ]
  },
  {
   "cell_type": "code",
   "execution_count": null,
   "id": "a528aff8",
   "metadata": {},
   "outputs": [],
   "source": [
    "waste_collection.query(\"region == 'basel'\").pivot_table(\n",
    "    index=\"date\", columns=\"area\", values=\"type\", aggfunc=\"first\", fill_value=\"\"\n",
    ")"
   ]
  },
  {
   "cell_type": "markdown",
   "id": "5940293f",
   "metadata": {},
   "source": [
    "## 2. Plot the most commonly collected waste\n",
    "\n",
    "Group the waste collection information by **type** and plot a horisontal bar diagram."
   ]
  },
  {
   "cell_type": "code",
   "execution_count": null,
   "id": "62ec9554",
   "metadata": {},
   "outputs": [],
   "source": [
    "waste_collection.groupby(\"type\").size().plot.barh()"
   ]
  },
  {
   "cell_type": "markdown",
   "id": "2e7a20c9",
   "metadata": {},
   "source": [
    "## 3. Create a Table with an overview of waste collection\n",
    "\n",
    "Create a table showing the number of waste collections in each **region** for each waste **type**. Export the table to LaTeX."
   ]
  },
  {
   "cell_type": "code",
   "execution_count": null,
   "id": "ae21a1e6",
   "metadata": {},
   "outputs": [],
   "source": [
    "print(\n",
    "    waste_collection.groupby([\"region\", \"type\"])\n",
    "    .size()\n",
    "    .reset_index()\n",
    "    .rename(columns={0: \"num\"})\n",
    "    .pivot_table(index=\"type\", columns=\"region\", values=\"num\", fill_value=0)\n",
    "    .style.to_latex()\n",
    ")"
   ]
  },
  {
   "cell_type": "code",
   "execution_count": null,
   "id": "cc707f3b",
   "metadata": {},
   "outputs": [],
   "source": []
  }
 ],
 "metadata": {
  "jupytext": {
   "formats": "ipynb,py:percent"
  },
  "kernelspec": {
   "display_name": "Python 3 (ipykernel)",
   "language": "python",
   "name": "python3"
  }
 },
 "nbformat": 4,
 "nbformat_minor": 5
}
