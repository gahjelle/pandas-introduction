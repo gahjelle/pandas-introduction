{
 "cells": [
  {
   "cell_type": "markdown",
   "id": "0a3640e8",
   "metadata": {},
   "source": [
    "# Exercises: Create DataFrames"
   ]
  },
  {
   "cell_type": "code",
   "execution_count": null,
   "id": "90e2083b",
   "metadata": {},
   "outputs": [],
   "source": [
    "import pandas as pd"
   ]
  },
  {
   "cell_type": "markdown",
   "id": "9a7d7428",
   "metadata": {},
   "source": [
    "## 1. Create a DataFrame from Python structures\n",
    "\n",
    "Create a DataFrame with the following data:\n",
    "\n",
    "|           | quiz_1   | quiz_2   | final   |\n",
    "|:----------|:---------|:---------|:--------|\n",
    "| Guido     | B        | A        | A       |\n",
    "| Wes       | -        | C        | C       |\n",
    "| Geir Arne | C        | D        | D       |"
   ]
  },
  {
   "cell_type": "code",
   "execution_count": null,
   "id": "f6b69627",
   "metadata": {},
   "outputs": [],
   "source": [
    "grades = [\n",
    "    {\"quiz_1\": \"B\", \"quiz_2\": \"A\", \"final\": \"A\"},\n",
    "    {\"quiz_2\": \"C\", \"final\": \"C\"},\n",
    "    {\"quiz_1\": \"C\", \"quiz_2\": \"D\", \"final\": \"D\"},\n",
    "]\n",
    "pd.DataFrame(grades, index=[\"Guido\", \"Wes\", \"Geir Arne\"])"
   ]
  },
  {
   "cell_type": "markdown",
   "id": "fbf8baa6",
   "metadata": {},
   "source": [
    "## 2. Read a DataFrame from files\n",
    "\n",
    "Read the file `../data/waste_collection.json` as a Python DataFrame."
   ]
  },
  {
   "cell_type": "code",
   "execution_count": null,
   "id": "56d19997",
   "metadata": {},
   "outputs": [],
   "source": [
    "pd.read_json(\"../data/waste_collection.json\")"
   ]
  },
  {
   "cell_type": "code",
   "execution_count": null,
   "id": "43793bf0",
   "metadata": {},
   "outputs": [],
   "source": []
  }
 ],
 "metadata": {
  "jupytext": {
   "formats": "ipynb,py:percent"
  },
  "kernelspec": {
   "display_name": "Python 3 (ipykernel)",
   "language": "python",
   "name": "python3"
  }
 },
 "nbformat": 4,
 "nbformat_minor": 5
}
