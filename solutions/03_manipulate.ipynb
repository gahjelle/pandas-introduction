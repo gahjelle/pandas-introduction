{
 "cells": [
  {
   "cell_type": "markdown",
   "id": "5505140e",
   "metadata": {},
   "source": [
    "# Exercises: Manipulate DataFrames"
   ]
  },
  {
   "cell_type": "code",
   "execution_count": null,
   "id": "d26624dc",
   "metadata": {},
   "outputs": [],
   "source": [
    "import pandas as pd\n",
    "\n",
    "postal_codes = pd.read_csv(\"../data/postal_codes.csv\")\n",
    "waste_collection = pd.read_json(\"../data/waste_collection.json\")"
   ]
  },
  {
   "cell_type": "markdown",
   "id": "d6c209a3",
   "metadata": {},
   "source": [
    "## 1. Filter\n",
    "\n",
    "A. Show date, type, and region in the `waste_collection` dataset:"
   ]
  },
  {
   "cell_type": "code",
   "execution_count": null,
   "id": "8502406a",
   "metadata": {},
   "outputs": [],
   "source": [
    "waste_collection.loc[:, [\"date\", \"type\", \"region\"]]"
   ]
  },
  {
   "cell_type": "markdown",
   "id": "34a07e7d",
   "metadata": {},
   "source": [
    "B. Find postal codes inside the **Basel** municipality."
   ]
  },
  {
   "cell_type": "code",
   "execution_count": null,
   "id": "ce0d8650",
   "metadata": {},
   "outputs": [],
   "source": [
    "postal_codes.query(\"municipality == 'Basel'\").loc[:, [\"postal_code\"]]"
   ]
  },
  {
   "cell_type": "markdown",
   "id": "321a0912",
   "metadata": {},
   "source": [
    "C. Find information about postal codes in all cantons with **Basel** in their name."
   ]
  },
  {
   "cell_type": "code",
   "execution_count": null,
   "id": "184c168e",
   "metadata": {},
   "outputs": [],
   "source": [
    "postal_codes.query(\"canton.str.contains('Basel')\")"
   ]
  },
  {
   "cell_type": "markdown",
   "id": "6c18da81",
   "metadata": {},
   "source": [
    "D. Find information about waste collection in the **basel** region."
   ]
  },
  {
   "cell_type": "code",
   "execution_count": null,
   "id": "a5ea95ef",
   "metadata": {},
   "outputs": [],
   "source": [
    "waste_collection.query(\"region == 'basel'\")"
   ]
  },
  {
   "cell_type": "markdown",
   "id": "d1067814",
   "metadata": {},
   "source": [
    "## 2. Aggregate\n",
    "\n",
    "A. Find the average latitude and longitude of all postal code data."
   ]
  },
  {
   "cell_type": "code",
   "execution_count": null,
   "id": "cfcbd7ee",
   "metadata": {},
   "outputs": [],
   "source": [
    "postal_codes.loc[:, [\"latitude\", \"longitude\"]].mean()"
   ]
  },
  {
   "cell_type": "markdown",
   "id": "b6d0bfdf",
   "metadata": {},
   "source": [
    "B. Find the average latitude and longitude of all postal codes in the **Basel** municipality."
   ]
  },
  {
   "cell_type": "code",
   "execution_count": null,
   "id": "acc645d0",
   "metadata": {},
   "outputs": [],
   "source": [
    "postal_codes.query(\"municipality == 'Basel'\").loc[:, [\"latitude\", \"longitude\"]].mean()"
   ]
  },
  {
   "cell_type": "markdown",
   "id": "95baf560",
   "metadata": {},
   "source": [
    "C. Find the average latitude and longitude of all cantons."
   ]
  },
  {
   "cell_type": "code",
   "execution_count": null,
   "id": "af7704f1",
   "metadata": {},
   "outputs": [],
   "source": [
    "postal_codes.groupby(\"canton\").mean().loc[:, [\"latitude\", \"longitude\"]]"
   ]
  },
  {
   "cell_type": "markdown",
   "id": "cc0a67e3",
   "metadata": {},
   "source": [
    "D. Merge `postal_codes` and `waste_collection` on the postal code."
   ]
  },
  {
   "cell_type": "code",
   "execution_count": null,
   "id": "4f41d988",
   "metadata": {},
   "outputs": [],
   "source": [
    "waste_collection.query(\"zip != 0\").merge(\n",
    "    postal_codes, left_on=\"zip\", right_on=\"postal_code\", how=\"left\"\n",
    ")"
   ]
  },
  {
   "cell_type": "markdown",
   "id": "17327f4b",
   "metadata": {},
   "source": [
    "## 3. Transform\n",
    "\n",
    "A. Remove the word `Kanton` from the canton column in `postal_codes`."
   ]
  },
  {
   "cell_type": "code",
   "execution_count": null,
   "id": "f0f16c4e",
   "metadata": {},
   "outputs": [],
   "source": [
    "postal_codes.assign(canton=postal_codes[\"canton\"].str.replace(\"Kanton \", \"\"))"
   ]
  },
  {
   "cell_type": "markdown",
   "id": "94f0fb87",
   "metadata": {},
   "source": [
    "B. Add the canton code to the name in parentheses in `postal_codes`. For example, Aarau in Kanton Aargau becomes `Aarau (AG)`."
   ]
  },
  {
   "cell_type": "code",
   "execution_count": null,
   "id": "d87626bd",
   "metadata": {},
   "outputs": [],
   "source": [
    "postal_codes.assign(\n",
    "    name=postal_codes.apply(\n",
    "        lambda row: f\"{row['name']} ({row['canton_code']})\", axis=\"columns\"\n",
    "    )\n",
    ")"
   ]
  },
  {
   "cell_type": "markdown",
   "id": "1d0494f4",
   "metadata": {},
   "source": [
    "## 4. Sort\n",
    "\n",
    "A. Sort postal codes alphabetically by name."
   ]
  },
  {
   "cell_type": "code",
   "execution_count": null,
   "id": "96834af1",
   "metadata": {},
   "outputs": [],
   "source": [
    "postal_codes.sort_values(by=\"name\")"
   ]
  },
  {
   "cell_type": "markdown",
   "id": "c533998e",
   "metadata": {},
   "source": [
    "B. Sort postal codes by latitude from North to South."
   ]
  },
  {
   "cell_type": "code",
   "execution_count": null,
   "id": "b3d2eb39",
   "metadata": {},
   "outputs": [],
   "source": [
    "postal_codes.sort_values(by=\"latitude\", ascending=False)"
   ]
  },
  {
   "cell_type": "markdown",
   "id": "265ae2d5",
   "metadata": {},
   "source": [
    "C. Sort postal codes, first descending by district code, then ascending by municipality name."
   ]
  },
  {
   "cell_type": "code",
   "execution_count": null,
   "id": "71826708",
   "metadata": {},
   "outputs": [],
   "source": [
    "postal_codes.sort_values(by=[\"district_code\", \"municipality\"], ascending=[False, True])"
   ]
  }
 ],
 "metadata": {
  "jupytext": {
   "formats": "ipynb,py:percent"
  },
  "kernelspec": {
   "display_name": "Python 3 (ipykernel)",
   "language": "python",
   "name": "python3"
  }
 },
 "nbformat": 4,
 "nbformat_minor": 5
}
