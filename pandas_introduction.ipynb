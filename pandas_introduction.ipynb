{
 "cells": [
  {
   "cell_type": "markdown",
   "id": "f9f2abbc",
   "metadata": {},
   "source": [
    "# Introduction to pandas\n",
    "\n",
    "**EuroSciPy 2022, Basel**\n",
    "\n",
    "Contact: **Geir Arne Hjelle**, `geirarne@gmail.com`, <https://github.com/gahjelle/pandas-introduction>\n",
    "\n",
    "**Agenda:**\n",
    "\n",
    "1. DataFrames as Panels of Data\n",
    "2. Create DataFrames\n",
    "3. Work With Tidy Data\n",
    "4. Manipulate DataFrames\n",
    "5. Share Results and Insights"
   ]
  },
  {
   "cell_type": "markdown",
   "id": "d4446206",
   "metadata": {},
   "source": [
    "## DataFrames as Panels of Data\n",
    "\n",
    "A **DataFrame** is the main data structure used in pandas. A DataFrame is analogous to a structured spread sheet. In particular:\n",
    "\n",
    "- A DataFrame is a **two-dimensional** table of rows and columns\n",
    "- Each column has a **name**\n",
    "- All values in a column have the **same data type**\n",
    "- Each row has an **index**, in general indicies do _not_ need to be unique\n",
    "\n",
    "Here are some examples of tables organized as DataFrames:\n",
    "\n",
    "| Time                | HS118                                             | HS120                                             |\n",
    "|:--------------------|:--------------------------------------------------|:--------------------------------------------------|\n",
    "| 2022-08-29 08:30:00 | Getting Started With JupyterLab                   | Increase Citations, Ease Review and Collaboration |\n",
    "| 2022-08-29 10:30:00 | Introduction to Python for Scientific Programming | Time Series Forecasting With scikit-learn         |\n",
    "| 2022-08-29 13:30:00 | Introduction to NumPy                             | Evaluating Your Machine Learning Models           |\n",
    "| 2022-08-29 15:30:00 | Introduction to pandas                            | Introduction to Audio and Speech Recognition      |\n",
    "| 2022-08-30 08:30:00 | Introduction to SciPy                             | Introduction to PyTorch                           |\n",
    "| 2022-08-30 10:30:00 | Introduction to scikit-learn I                    | Introduction to Geospatial Data Analysis          |\n",
    "| 2022-08-30 13:30:00 | Introduction to scikit-learn II                   | Image Processing With scikit-image                |\n",
    "| 2022-08-30 15:30:00 | Effectively Using MatPlotLib                      | Network Science With Python                       |\n",
    "\n",
    "A subset of the data can be presented as follows:\n",
    "\n",
    "| Room   | 2022-08-29 08:30:00                               | 2022-08-29 10:30:00                               | 2022-08-29 13:30:00                     | 2022-08-29 15:30:00                          |\n",
    "|:-------|:--------------------------------------------------|:--------------------------------------------------|:----------------------------------------|:---------------------------------------------|\n",
    "| HS118  | Getting Started With JupyterLab                   | Introduction to Python for Scientific Programming | Introduction to NumPy                   | Introduction to pandas                       |\n",
    "| HS120  | Increase Citations, Ease Review and Collaboration | Time Series Forecasting With scikit-learn         | Evaluating Your Machine Learning Models | Introduction to Audio and Speech Recognition |\n"
   ]
  },
  {
   "cell_type": "markdown",
   "id": "3d24b902",
   "metadata": {},
   "source": [
    "## Create DataFrames\n",
    "\n",
    "At a high level, you can create DataFrames in two ways:\n",
    "\n",
    "1. From an existing Python data structure in memory, typically nested `dict` and/or `list`\n",
    "2. From a data source like a file, database, etc\n",
    "\n",
    "You use `pd.DataFrame()` to convert an existing Python data structure. There are several `read_*()` functions in pandas that construct DataFrames from different data sources."
   ]
  },
  {
   "cell_type": "code",
   "execution_count": null,
   "id": "23e4e43c",
   "metadata": {},
   "outputs": [],
   "source": [
    "import pandas as pd"
   ]
  },
  {
   "cell_type": "code",
   "execution_count": null,
   "id": "5b8fda81",
   "metadata": {},
   "outputs": [],
   "source": [
    "# Create a DataFrame from a list of dictionaries\n",
    "tutorials = [\n",
    "    {\n",
    "        \"HS118\": \"Getting Started With JupyterLab\",\n",
    "        \"HS120\": \"Increase Citations, Ease Review and Collaboration\",\n",
    "    },\n",
    "    {\n",
    "        \"HS118\": \"Introduction to Python for Scientific Programming\",\n",
    "        \"HS120\": \"Time Series Forecasting With scikit-learn\",\n",
    "    },\n",
    "    {\n",
    "        \"HS118\": \"Introduction to NumPy\",\n",
    "        \"HS120\": \"Evaluating Your Machine Learning Models\",\n",
    "    },\n",
    "    {\n",
    "        \"HS118\": \"Introduction to pandas\",\n",
    "        \"HS120\": \"Introduction to Audio and Speech Recognition\",\n",
    "    },\n",
    "]\n",
    "pd.DataFrame(tutorials, index=[\"08:30\", \"10:30\", \"13:30\", \"15:30\"])"
   ]
  },
  {
   "cell_type": "code",
   "execution_count": null,
   "id": "5e2bde85",
   "metadata": {},
   "outputs": [],
   "source": [
    "# Create a DataFrame from a dictionary of lists\n",
    "tutorials = {\n",
    "    \"HS118\": [\n",
    "        \"Getting Started With JupyterLab\",\n",
    "        \"Introduction to Python for Scientific Programming\",\n",
    "        \"Introduction to NumPy\",\n",
    "        \"Introduction to pandas\",\n",
    "    ],\n",
    "    \"HS120\": [\n",
    "        \"Increase Citations, Ease Review and Collaboration\",\n",
    "        \"Time Series Forecasting With scikit-learn\",\n",
    "        \"Evaluating Your Machine Learning Models\",\n",
    "        \"Introduction to Audio and Speech Recognition\",\n",
    "    ],\n",
    "}\n",
    "pd.DataFrame(tutorials, index=[\"08:30\", \"10:30\", \"13:30\", \"15:30\"])"
   ]
  },
  {
   "cell_type": "code",
   "execution_count": null,
   "id": "0450ed12",
   "metadata": {},
   "outputs": [],
   "source": [
    "# Create a DataFrame from a CSV file\n",
    "pd.read_csv(\"data/billboard_songs.csv\")"
   ]
  },
  {
   "cell_type": "code",
   "execution_count": null,
   "id": "8011a50b",
   "metadata": {},
   "outputs": [],
   "source": [
    "[function for function in dir(pd) if function.startswith(\"read_\")]"
   ]
  },
  {
   "cell_type": "markdown",
   "id": "e22a4365",
   "metadata": {},
   "source": [
    "## Work With Tidy Data\n",
    "\n",
    "Hadley Wickham introduced the term **tidy data** (<https://tidyr.tidyverse.org/articles/tidy-data.html>). Data tidying is a way to **structure DataFrames to facilitate analysis**.\n",
    "\n",
    "A DataFrame is tidy if:\n",
    "\n",
    "- Each variable is a column\n",
    "- Each observation is a row\n",
    "- Each DataFrame contains one observational unit\n",
    "\n",
    "Note that tidy data principles are closely tied to normalization of relational databases.\n",
    "\n",
    "Is the following DataFrame tidy?"
   ]
  },
  {
   "cell_type": "code",
   "execution_count": null,
   "id": "7a977c0e",
   "metadata": {},
   "outputs": [],
   "source": [
    "schedule = pd.DataFrame(tutorials, index=[\"08:30\", \"10:30\", \"13:30\", \"15:30\"])\n",
    "schedule"
   ]
  },
  {
   "cell_type": "markdown",
   "id": "3d3905db",
   "metadata": {},
   "source": [
    "What about the following DataFrame?"
   ]
  },
  {
   "cell_type": "code",
   "execution_count": null,
   "id": "f82e5d8c",
   "metadata": {},
   "outputs": [],
   "source": [
    "schedule.T"
   ]
  },
  {
   "cell_type": "markdown",
   "id": "9b7d4788",
   "metadata": {},
   "source": [
    "What are the variables in the dataset? Time slots, rooms, and tutorial titles. They should each be their own column. Tidy the dataset:"
   ]
  },
  {
   "cell_type": "code",
   "execution_count": null,
   "id": "7a59c6ea",
   "metadata": {},
   "outputs": [],
   "source": [
    "(\n",
    "    schedule.melt(ignore_index=False)\n",
    "    .reset_index()\n",
    "    .rename(columns={\"index\": \"time\", \"variable\": \"room\", \"value\": \"title\"})\n",
    "    .sort_values(by=[\"time\", \"room\"])\n",
    "    .reset_index(drop=True)\n",
    ")"
   ]
  },
  {
   "cell_type": "markdown",
   "id": "17cd10bf",
   "metadata": {},
   "source": [
    "Being conscious of tidy data lets you standardize your **data cleaning** and **analysis**:\n",
    "\n",
    "1. Tidy your data set\n",
    "2. Clean your data (e.g. check outliers, parse dates, impute missing values)\n",
    "3. Analyze\n",
    "4. Share and visualize\n",
    "\n",
    "**Note:** Datasets from Hadley Wickham's Tidy Data paper are at <https://github.com/hadley/tidy-data/tree/master/data>"
   ]
  },
  {
   "cell_type": "markdown",
   "id": "eab7ef75",
   "metadata": {},
   "source": [
    "## Manipulate DataFrames\n",
    "\n",
    "pandas DataFrames have many methods you can use to manipulate your data. They fall into several categories:\n",
    "\n",
    "- **Filter**: remove observations\n",
    "- **Transform**: add or modify variables based on existing variables\n",
    "- **Aggregate**: collapse multiple values into a single value\n",
    "- **Sort**: change the order of observations"
   ]
  },
  {
   "cell_type": "code",
   "execution_count": null,
   "id": "29725a83",
   "metadata": {},
   "outputs": [],
   "source": [
    "schedule = pd.read_csv(\"data/schedule.csv\", parse_dates=[\"timestamp\"])\n",
    "schedule"
   ]
  },
  {
   "cell_type": "code",
   "execution_count": null,
   "id": "c22587f7",
   "metadata": {},
   "outputs": [],
   "source": [
    "songs = pd.read_csv(\"data/billboard_songs.csv\")\n",
    "ranks = pd.read_csv(\"data/billboard_ranks.csv\", parse_dates=[\"date\"])\n",
    "songs"
   ]
  },
  {
   "cell_type": "markdown",
   "id": "a63d16ee",
   "metadata": {},
   "source": [
    "### Filter"
   ]
  },
  {
   "cell_type": "code",
   "execution_count": null,
   "id": "bf6d53ad",
   "metadata": {},
   "outputs": [],
   "source": [
    "songs.loc[:, [\"artist\", \"track\", \"time\"]]"
   ]
  },
  {
   "cell_type": "code",
   "execution_count": null,
   "id": "23a4c07e",
   "metadata": {},
   "outputs": [],
   "source": [
    "schedule.loc[:, [\"timestamp\", \"title\"]]"
   ]
  },
  {
   "cell_type": "code",
   "execution_count": null,
   "id": "66bbca8c",
   "metadata": {},
   "outputs": [],
   "source": [
    "schedule.drop(columns=[\"room\"])"
   ]
  },
  {
   "cell_type": "code",
   "execution_count": null,
   "id": "392ced92",
   "metadata": {},
   "outputs": [],
   "source": [
    "schedule.set_index(\"timestamp\").loc[\"2022-08-29\"]"
   ]
  },
  {
   "cell_type": "code",
   "execution_count": null,
   "id": "981cca1a",
   "metadata": {},
   "outputs": [],
   "source": [
    "schedule.query(\"room == 'HS118'\")"
   ]
  },
  {
   "cell_type": "code",
   "execution_count": null,
   "id": "55178a7e",
   "metadata": {},
   "outputs": [],
   "source": [
    "schedule.query(\"timestamp.dt.hour == 10\")"
   ]
  },
  {
   "cell_type": "code",
   "execution_count": null,
   "id": "5e41efda",
   "metadata": {},
   "outputs": [],
   "source": [
    "schedule.query(\"title.str.startswith('Intro')\")"
   ]
  },
  {
   "cell_type": "code",
   "execution_count": null,
   "id": "30ffa008",
   "metadata": {},
   "outputs": [],
   "source": [
    "schedule.query(\"title.str.contains('scikit')\")"
   ]
  },
  {
   "cell_type": "code",
   "execution_count": null,
   "id": "22e9ec7e",
   "metadata": {},
   "outputs": [],
   "source": [
    "songs.query(\"artist == 'Jay-Z'\").loc[:, [\"track\", \"time\"]]"
   ]
  },
  {
   "cell_type": "code",
   "execution_count": null,
   "id": "9eecb1bf",
   "metadata": {},
   "outputs": [],
   "source": [
    "ranks.select_dtypes(include=\"number\")"
   ]
  },
  {
   "cell_type": "markdown",
   "id": "133d8aae",
   "metadata": {},
   "source": [
    "### Aggregate"
   ]
  },
  {
   "cell_type": "code",
   "execution_count": null,
   "id": "7330e0fe",
   "metadata": {},
   "outputs": [],
   "source": [
    "ranks.sum()"
   ]
  },
  {
   "cell_type": "code",
   "execution_count": null,
   "id": "f69bca6e",
   "metadata": {},
   "outputs": [],
   "source": [
    "ranks.select_dtypes(include=\"number\").mean()"
   ]
  },
  {
   "cell_type": "code",
   "execution_count": null,
   "id": "2512acc9",
   "metadata": {},
   "outputs": [],
   "source": [
    "ranks.groupby(\"id\").size().sort_values(ascending=False)"
   ]
  },
  {
   "cell_type": "code",
   "execution_count": null,
   "id": "fcc22f44",
   "metadata": {},
   "outputs": [],
   "source": [
    "ranks.groupby(\"id\").first()"
   ]
  },
  {
   "cell_type": "code",
   "execution_count": null,
   "id": "4b00a38f",
   "metadata": {},
   "outputs": [],
   "source": [
    "ranks.groupby(\"id\").agg({\"date\": \"first\", \"rank\": \"min\"})"
   ]
  },
  {
   "cell_type": "code",
   "execution_count": null,
   "id": "a1cdc2b8",
   "metadata": {},
   "outputs": [],
   "source": [
    "billboard = songs.merge(ranks, left_on=\"id\", right_on=\"id\")\n",
    "billboard"
   ]
  },
  {
   "cell_type": "code",
   "execution_count": null,
   "id": "2efe34bc",
   "metadata": {},
   "outputs": [],
   "source": [
    "for song_id, info in billboard.groupby(\"id\"):\n",
    "    if info[\"rank\"].min() == 1:\n",
    "        print(info.query(\"rank == 1\"))"
   ]
  },
  {
   "cell_type": "markdown",
   "id": "1c7bdeab",
   "metadata": {},
   "source": [
    "### Transform"
   ]
  },
  {
   "cell_type": "code",
   "execution_count": null,
   "id": "12f22f86",
   "metadata": {},
   "outputs": [],
   "source": [
    "schedule.assign(date=schedule.timestamp.dt.date, time=schedule.timestamp.dt.time)"
   ]
  },
  {
   "cell_type": "code",
   "execution_count": null,
   "id": "addf3305",
   "metadata": {},
   "outputs": [],
   "source": [
    "(\n",
    "    songs.set_index(\"id\")\n",
    "    .assign(\n",
    "        date_entered=ranks.groupby(\"id\").agg({\"date\": \"min\"}),\n",
    "        peak_position=ranks.groupby(\"id\").agg({\"rank\": \"min\"}),\n",
    "        num_weeks=ranks.groupby(\"id\").size(),\n",
    "        avg_position=ranks.loc[:, [\"id\", \"rank\"]].groupby(\"id\").mean(),\n",
    "        score=lambda df: df.num_weeks * (100 - df.avg_position),\n",
    "    )\n",
    "    .drop(columns=[\"time\", \"genre\"])\n",
    ")"
   ]
  },
  {
   "cell_type": "markdown",
   "id": "6a287517",
   "metadata": {},
   "source": [
    "### Sort"
   ]
  },
  {
   "cell_type": "code",
   "execution_count": null,
   "id": "f5950504",
   "metadata": {},
   "outputs": [],
   "source": [
    "scored_billboard = (\n",
    "    songs.set_index(\"id\")\n",
    "    .assign(\n",
    "        num_weeks=ranks.groupby(\"id\").size(),\n",
    "        avg_position=ranks.loc[:, [\"id\", \"rank\"]].groupby(\"id\").mean(),\n",
    "        score=lambda df: df.num_weeks * (100 - df.avg_position),\n",
    "    )\n",
    "    .drop(columns=[\"time\", \"genre\"])\n",
    ")"
   ]
  },
  {
   "cell_type": "code",
   "execution_count": null,
   "id": "f63ef5dd",
   "metadata": {},
   "outputs": [],
   "source": [
    "scored_billboard.sort_index()"
   ]
  },
  {
   "cell_type": "code",
   "execution_count": null,
   "id": "6e61c054",
   "metadata": {},
   "outputs": [],
   "source": [
    "scored_billboard.sort_values(by=\"artist\")"
   ]
  },
  {
   "cell_type": "code",
   "execution_count": null,
   "id": "4974bfbf",
   "metadata": {},
   "outputs": [],
   "source": [
    "scored_billboard.sort_values(by=\"artist\", key=lambda artist: artist.str.lower())"
   ]
  },
  {
   "cell_type": "code",
   "execution_count": null,
   "id": "805b0b56",
   "metadata": {},
   "outputs": [],
   "source": [
    "scored_billboard.sort_values(by=\"num_weeks\", ascending=False)"
   ]
  },
  {
   "cell_type": "code",
   "execution_count": null,
   "id": "cbb54d55",
   "metadata": {},
   "outputs": [],
   "source": [
    "scored_billboard.sort_values(by=[\"num_weeks\", \"avg_position\"], ascending=[False, True])"
   ]
  },
  {
   "cell_type": "code",
   "execution_count": null,
   "id": "da32ed37",
   "metadata": {},
   "outputs": [],
   "source": [
    "scored_billboard.sort_values(by=\"score\", ascending=False)"
   ]
  },
  {
   "cell_type": "markdown",
   "id": "b39e9caa",
   "metadata": {},
   "source": [
    "## Share Results and Insights\n",
    "\n",
    "When you want to share your insights, you often want to **untidy** your data again:"
   ]
  },
  {
   "cell_type": "code",
   "execution_count": null,
   "id": "d5d2648f",
   "metadata": {},
   "outputs": [],
   "source": [
    "schedule.pivot_table(index=\"timestamp\", columns=\"room\", values=\"title\", aggfunc=\"first\")"
   ]
  },
  {
   "cell_type": "markdown",
   "id": "98065c87",
   "metadata": {},
   "source": [
    "In the same way you can use pandas to read from many different data sources, you can also write to many different outputs."
   ]
  },
  {
   "cell_type": "code",
   "execution_count": null,
   "id": "11e60aaf",
   "metadata": {},
   "outputs": [],
   "source": [
    "[method for method in dir(schedule) if method.startswith(\"to_\")]"
   ]
  },
  {
   "cell_type": "code",
   "execution_count": null,
   "id": "8c20aada",
   "metadata": {},
   "outputs": [],
   "source": [
    "scored_billboard.sort_values(by=\"score\", ascending=False).head(10).loc[\n",
    "    :, [\"artist\", \"track\", \"num_weeks\"]\n",
    "].to_csv(\"top_songs_2000.csv\", index=False)"
   ]
  },
  {
   "cell_type": "code",
   "execution_count": null,
   "id": "87d15e9e",
   "metadata": {},
   "outputs": [],
   "source": [
    "ranks.plot.scatter(x=\"date\", y=\"rank\", alpha=0.4)"
   ]
  },
  {
   "cell_type": "code",
   "execution_count": null,
   "id": "8545fde9",
   "metadata": {},
   "outputs": [],
   "source": [
    "ranks.query(\"id < 5\").groupby(\"id\").plot.line(x=\"date\", y=\"rank\", marker=\"+\")"
   ]
  },
  {
   "cell_type": "code",
   "execution_count": null,
   "id": "b28f58bd",
   "metadata": {},
   "outputs": [],
   "source": []
  }
 ],
 "metadata": {
  "jupytext": {
   "formats": "ipynb,py:percent"
  },
  "kernelspec": {
   "display_name": "Python 3 (ipykernel)",
   "language": "python",
   "name": "python3"
  }
 },
 "nbformat": 4,
 "nbformat_minor": 5
}
